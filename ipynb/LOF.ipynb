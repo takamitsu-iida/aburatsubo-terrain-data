{
 "cells": [
  {
   "cell_type": "markdown",
   "id": "39718604-d0f0-4ff5-9202-3894e9ce0a42",
   "metadata": {},
   "source": [
    "# LOF(Local Outlier Factor)"
   ]
  },
  {
   "cell_type": "markdown",
   "id": "d90fd95e-1328-4990-a9a9-00eebc9f05a5",
   "metadata": {},
   "source": [
    "必要なライブラリを読み込む"
   ]
  },
  {
   "cell_type": "code",
   "execution_count": 5,
   "id": "a3e9ba9e-6d82-4d21-b54e-adf77f837f0c",
   "metadata": {},
   "outputs": [],
   "source": [
    "import pandas as pd\n",
    "import numpy as np\n",
    "import matplotlib.pyplot as plt"
   ]
  },
  {
   "cell_type": "markdown",
   "id": "6338f340-ba0d-4049-9072-b3937db0d35d",
   "metadata": {},
   "source": [
    "# sample1.csv"
   ]
  },
  {
   "cell_type": "code",
   "execution_count": 6,
   "id": "b4f54e57-8639-4858-b3b5-b60a2a89d8ac",
   "metadata": {},
   "outputs": [
    {
     "data": {
      "text/html": [
       "<div>\n",
       "<style scoped>\n",
       "    .dataframe tbody tr th:only-of-type {\n",
       "        vertical-align: middle;\n",
       "    }\n",
       "\n",
       "    .dataframe tbody tr th {\n",
       "        vertical-align: top;\n",
       "    }\n",
       "\n",
       "    .dataframe thead th {\n",
       "        text-align: right;\n",
       "    }\n",
       "</style>\n",
       "<table border=\"1\" class=\"dataframe\">\n",
       "  <thead>\n",
       "    <tr style=\"text-align: right;\">\n",
       "      <th></th>\n",
       "      <th>x</th>\n",
       "      <th>y</th>\n",
       "    </tr>\n",
       "  </thead>\n",
       "  <tbody>\n",
       "    <tr>\n",
       "      <th>0</th>\n",
       "      <td>0.172157</td>\n",
       "      <td>0.255399</td>\n",
       "    </tr>\n",
       "    <tr>\n",
       "      <th>1</th>\n",
       "      <td>0.950880</td>\n",
       "      <td>-0.816382</td>\n",
       "    </tr>\n",
       "    <tr>\n",
       "      <th>2</th>\n",
       "      <td>0.903744</td>\n",
       "      <td>0.005822</td>\n",
       "    </tr>\n",
       "    <tr>\n",
       "      <th>3</th>\n",
       "      <td>-0.321021</td>\n",
       "      <td>-0.837641</td>\n",
       "    </tr>\n",
       "    <tr>\n",
       "      <th>4</th>\n",
       "      <td>0.314978</td>\n",
       "      <td>0.669728</td>\n",
       "    </tr>\n",
       "    <tr>\n",
       "      <th>...</th>\n",
       "      <td>...</td>\n",
       "      <td>...</td>\n",
       "    </tr>\n",
       "    <tr>\n",
       "      <th>295</th>\n",
       "      <td>1.342235</td>\n",
       "      <td>-4.326074</td>\n",
       "    </tr>\n",
       "    <tr>\n",
       "      <th>296</th>\n",
       "      <td>-2.494264</td>\n",
       "      <td>-1.603658</td>\n",
       "    </tr>\n",
       "    <tr>\n",
       "      <th>297</th>\n",
       "      <td>-0.527160</td>\n",
       "      <td>3.422112</td>\n",
       "    </tr>\n",
       "    <tr>\n",
       "      <th>298</th>\n",
       "      <td>-3.603915</td>\n",
       "      <td>0.170813</td>\n",
       "    </tr>\n",
       "    <tr>\n",
       "      <th>299</th>\n",
       "      <td>1.108975</td>\n",
       "      <td>-5.442595</td>\n",
       "    </tr>\n",
       "  </tbody>\n",
       "</table>\n",
       "<p>300 rows × 2 columns</p>\n",
       "</div>"
      ],
      "text/plain": [
       "            x         y\n",
       "0    0.172157  0.255399\n",
       "1    0.950880 -0.816382\n",
       "2    0.903744  0.005822\n",
       "3   -0.321021 -0.837641\n",
       "4    0.314978  0.669728\n",
       "..        ...       ...\n",
       "295  1.342235 -4.326074\n",
       "296 -2.494264 -1.603658\n",
       "297 -0.527160  3.422112\n",
       "298 -3.603915  0.170813\n",
       "299  1.108975 -5.442595\n",
       "\n",
       "[300 rows x 2 columns]"
      ]
     },
     "execution_count": 6,
     "metadata": {},
     "output_type": "execute_result"
    }
   ],
   "source": [
    "df = pd.read_csv(\"sample1.csv\")\n",
    "df"
   ]
  },
  {
   "cell_type": "code",
   "execution_count": 7,
   "id": "e68cf0a4-7ccc-4606-8758-f92ea47a1b57",
   "metadata": {},
   "outputs": [
    {
     "data": {
      "text/plain": [
       "<matplotlib.collections.PathCollection at 0x7f90fcc16b10>"
      ]
     },
     "execution_count": 7,
     "metadata": {},
     "output_type": "execute_result"
    },
    {
     "data": {
      "image/png": "[encoded data removed]",
      "text/plain": [
       "<Figure size 640x480 with 1 Axes>"
      ]
     },
     "metadata": {},
     "output_type": "display_data"
    }
   ],
   "source": [
    "plt.scatter(df[\"x\"], df[\"y\"], c=\"blue\")"
   ]
  },
  {
   "cell_type": "code",
   "execution_count": 8,
   "id": "5f6e8e93-ef94-49ab-8e1b-fbcd15fa944c",
   "metadata": {},
   "outputs": [
    {
     "data": {
      "text/plain": [
       "array([[ 1.72157192e-01,  2.55399140e-01],\n",
       "       [ 9.50879819e-01, -8.16381522e-01],\n",
       "       [ 9.03744283e-01,  5.82191093e-03],\n",
       "       [-3.21021099e-01, -8.37641433e-01],\n",
       "       [ 3.14978058e-01,  6.69728218e-01],\n",
       "       [ 9.49068881e-03,  5.79704629e-01],\n",
       "       [-4.43494642e-01,  1.34468958e+00],\n",
       "       [-1.43117650e-01,  1.03348552e-01],\n",
       "       [-1.21482167e+00,  5.73815872e-02],\n",
       "       [ 8.37141498e-01,  1.33842518e-01],\n",
       "       [-7.64024646e-01, -1.64597994e-01],\n",
       "       [ 2.05431486e+00,  9.96649124e-01],\n",
       "       [-9.99639571e-01, -4.66749383e-01],\n",
       "       [ 1.80321430e-01,  1.05953492e-01],\n",
       "       [ 9.48855612e-01, -2.92118100e+00],\n",
       "       [-1.87224552e-02,  4.17066909e-01],\n",
       "       [ 1.50098503e+00, -7.58394103e-01],\n",
       "       [ 1.29665753e+00, -1.97917319e-01],\n",
       "       [-9.85013217e-01,  4.25592748e-01],\n",
       "       [-1.03889088e+00, -4.51054663e-01],\n",
       "       [ 2.29102476e-01,  1.07430294e+00],\n",
       "       [ 1.58447928e-01,  1.59970086e+00],\n",
       "       [ 4.35607384e-01, -1.20236766e+00],\n",
       "       [-1.73433718e-01,  2.48239585e+00],\n",
       "       [ 1.91275995e+00,  1.09383383e+00],\n",
       "       [-4.23367790e-01,  1.03786748e-01],\n",
       "       [-2.94506891e-01, -1.24081246e+00],\n",
       "       [-4.78668907e-01,  2.03419010e+00],\n",
       "       [ 1.07497464e-01,  6.41249048e-01],\n",
       "       [ 5.75604327e-01, -1.88700964e-01],\n",
       "       [-8.94460910e-01, -1.89891086e+00],\n",
       "       [-5.02743567e-02,  2.42558421e-01],\n",
       "       [-1.29043575e+00,  2.13798330e+00],\n",
       "       [ 2.11523623e+00,  1.62856627e+00],\n",
       "       [ 7.68302864e-01,  4.14797799e-03],\n",
       "       [ 2.62145925e+00,  1.03892744e+00],\n",
       "       [ 6.36373648e-01,  3.84619903e-01],\n",
       "       [-4.23109965e-01, -4.88219702e-01],\n",
       "       [-1.06821503e+00,  3.46298925e-01],\n",
       "       [-1.40765809e+00, -6.43974325e-01],\n",
       "       [ 5.03157167e-01, -1.06107322e+00],\n",
       "       [ 1.34735762e+00,  7.13417170e-02],\n",
       "       [-9.45238437e-02,  2.13722232e-01],\n",
       "       [-2.51748204e+00,  2.76632857e-01],\n",
       "       [ 3.07917059e-01, -1.07965429e-01],\n",
       "       [ 2.15150354e+00,  4.29102655e-01],\n",
       "       [-1.49544671e-01,  1.25058050e+00],\n",
       "       [-8.83750631e-01, -7.58504756e-01],\n",
       "       [-1.29980450e-01, -7.48196024e-01],\n",
       "       [-7.75170303e-01,  1.03758680e+00],\n",
       "       [-2.02737651e+00, -5.25771404e-01],\n",
       "       [-3.39914266e-01, -1.84360419e+00],\n",
       "       [ 9.25794390e-01, -2.74404438e-01],\n",
       "       [-6.77890423e-02, -1.18035804e-01],\n",
       "       [-5.01085754e-01,  1.92270749e-02],\n",
       "       [-4.32111001e-02, -1.28490285e+00],\n",
       "       [-1.84934004e+00, -9.77868494e-01],\n",
       "       [ 1.67199435e+00,  1.89154824e+00],\n",
       "       [-4.01162899e-01,  1.72374241e-01],\n",
       "       [-1.56646700e+00, -5.42651872e-01],\n",
       "       [ 4.21005673e-01, -3.76665086e-02],\n",
       "       [-5.53098371e-01,  2.65369905e+00],\n",
       "       [-5.60617400e-01, -4.81881732e-01],\n",
       "       [ 5.44444798e-02,  5.43220454e-01],\n",
       "       [-1.13540737e-01,  4.51658352e-01],\n",
       "       [ 7.07645912e-01, -1.72768575e+00],\n",
       "       [-7.52411988e-01,  1.82550588e+00],\n",
       "       [-1.86791640e+00,  4.26008523e-01],\n",
       "       [ 1.30683277e+00,  3.48636873e-01],\n",
       "       [-9.57876864e-01, -6.36734631e-01],\n",
       "       [ 1.24145347e+00,  5.45601041e-01],\n",
       "       [ 2.19230217e-01, -5.56638951e-02],\n",
       "       [-1.46543282e+00, -2.16548716e+00],\n",
       "       [-5.15750607e-01, -2.42158541e+00],\n",
       "       [ 5.76280126e-01,  9.72642957e-02],\n",
       "       [-2.92508946e+00,  6.66951477e-01],\n",
       "       [-1.37807490e+00,  8.55239391e-01],\n",
       "       [-7.17522960e-01, -5.73308244e-01],\n",
       "       [ 8.43329500e-01,  3.91922099e-01],\n",
       "       [-2.44866249e-01, -1.00438714e+00],\n",
       "       [ 1.90599331e+00,  7.52951218e-01],\n",
       "       [ 2.34828054e-01, -1.32943102e+00],\n",
       "       [-7.01180728e-01, -4.36998996e-01],\n",
       "       [-1.34797907e+00,  9.28799274e-01],\n",
       "       [ 1.63707741e+00,  2.08547809e+00],\n",
       "       [-4.85014896e-01, -3.08391045e-01],\n",
       "       [ 1.18601703e+00, -2.81510313e+00],\n",
       "       [-1.30774518e+00, -5.57497990e-01],\n",
       "       [ 1.35331975e+00,  1.32261783e+00],\n",
       "       [ 1.70442168e-01,  4.15978772e-01],\n",
       "       [ 7.33021390e-01, -5.06791766e-01],\n",
       "       [-1.64038335e+00,  4.83330871e-01],\n",
       "       [-4.54980879e-01, -8.22200293e-01],\n",
       "       [-7.45828360e-01,  1.42763037e+00],\n",
       "       [ 8.64960758e-01, -5.13061006e-01],\n",
       "       [-2.23375291e+00,  2.27094215e+00],\n",
       "       [ 3.92003037e-01,  7.77230485e-01],\n",
       "       [-1.10023688e+00, -1.69924821e+00],\n",
       "       [-1.69487672e+00,  6.95881936e-02],\n",
       "       [-8.46907682e-01,  5.93174110e-01],\n",
       "       [ 1.21031277e+00,  1.42782417e+00],\n",
       "       [ 3.01967993e-01, -9.80006591e-01],\n",
       "       [-1.74123224e+00,  6.71417317e-01],\n",
       "       [-2.60654560e+00,  9.50457531e-01],\n",
       "       [-7.56621372e-01, -1.33548514e+00],\n",
       "       [-3.40025889e-01, -2.56813328e-01],\n",
       "       [ 2.53430837e+00, -1.16601740e+00],\n",
       "       [-1.46168635e-01, -3.27569967e-01],\n",
       "       [ 5.73171364e-01, -6.33366767e-01],\n",
       "       [ 1.20598153e+00, -2.57637381e-01],\n",
       "       [-5.61885651e-01, -1.29869540e+00],\n",
       "       [-1.46768432e+00, -1.48138926e+00],\n",
       "       [-1.48271796e+00, -8.37730727e-01],\n",
       "       [ 1.01294471e+00,  3.50600418e-01],\n",
       "       [-3.42707785e-01,  6.17818765e-02],\n",
       "       [-1.59118817e+00,  8.80327744e-01],\n",
       "       [-8.19230304e-01, -9.09082393e-01],\n",
       "       [-5.97147624e-01,  4.57655051e-01],\n",
       "       [-4.26059499e-01, -3.32533026e-01],\n",
       "       [-7.41765927e-01,  3.50136141e-02],\n",
       "       [ 2.05431379e+00, -1.07500567e+00],\n",
       "       [ 1.07661178e+00,  2.46498252e+00],\n",
       "       [ 5.03343690e-02, -2.05902235e-01],\n",
       "       [ 8.48969606e-01,  9.05854569e-01],\n",
       "       [-3.88774924e-01, -1.77812161e+00],\n",
       "       [-1.29707372e+00,  1.43157088e+00],\n",
       "       [-9.76564322e-01, -2.17887612e+00],\n",
       "       [-8.40558316e-01, -1.58157062e+00],\n",
       "       [-1.77528763e+00, -2.34014308e-01],\n",
       "       [ 1.04197716e+00, -1.70511102e-01],\n",
       "       [-7.17649441e-01, -4.30048713e-01],\n",
       "       [-1.11984606e+00, -8.56402315e-02],\n",
       "       [-2.30406338e+00,  1.36094106e-01],\n",
       "       [-1.72503228e-02,  1.77020985e-01],\n",
       "       [-2.48112065e+00, -1.12475753e+00],\n",
       "       [-1.79321818e+00,  5.09060481e-01],\n",
       "       [-2.03559038e-01, -8.88413336e-01],\n",
       "       [-7.61254833e-01,  1.69001476e+00],\n",
       "       [-6.99430686e-01,  7.44076624e-01],\n",
       "       [ 1.03041671e+00,  1.55356048e+00],\n",
       "       [ 8.80621284e-01,  8.60861927e-02],\n",
       "       [ 1.02503321e+00,  3.73961482e-01],\n",
       "       [ 1.68605714e+00,  1.61629465e+00],\n",
       "       [ 1.29951646e+00, -6.95094134e-01],\n",
       "       [-6.57047676e-01, -2.61713903e-01],\n",
       "       [-7.39706493e-01, -3.95508478e-01],\n",
       "       [ 9.63416038e-01, -1.26618215e-01],\n",
       "       [-8.60892071e-01, -1.21428229e-01],\n",
       "       [ 1.45105056e+00, -9.70660700e-01],\n",
       "       [-8.94700685e-01, -1.61306676e+00],\n",
       "       [ 2.49673009e+00, -1.59980224e+00],\n",
       "       [ 2.07146577e+00, -1.48253497e+00],\n",
       "       [ 3.44374472e-01, -9.39505313e-01],\n",
       "       [ 2.66329757e-01, -9.77592283e-01],\n",
       "       [-7.98157116e-01, -1.52170035e+00],\n",
       "       [ 8.01999618e-01,  1.41881202e-01],\n",
       "       [ 1.66466089e+00,  6.08445271e-01],\n",
       "       [-5.47835696e-01,  2.12248526e+00],\n",
       "       [ 1.25334075e+00, -1.35830840e+00],\n",
       "       [ 1.00119680e+00,  3.48940037e-01],\n",
       "       [-6.58519331e-01, -1.22748668e+00],\n",
       "       [ 9.43716317e-01,  1.25521205e+00],\n",
       "       [-4.83108474e-01,  1.99472272e-01],\n",
       "       [-3.82195718e-01, -6.39395325e-01],\n",
       "       [ 3.28061992e-01,  1.45902449e+00],\n",
       "       [ 8.21907168e-01, -1.30783945e+00],\n",
       "       [ 6.87754596e-01, -1.76226342e+00],\n",
       "       [ 2.48523985e+00, -4.64828668e-02],\n",
       "       [ 1.94045758e+00,  4.40172929e-01],\n",
       "       [-1.28166482e+00,  9.90909136e-01],\n",
       "       [-7.50657659e-02,  1.88467699e+00],\n",
       "       [-4.34751881e-01, -1.27536257e+00],\n",
       "       [-1.21594723e-01,  1.12218998e+00],\n",
       "       [ 4.88249556e-01,  3.67041760e-01],\n",
       "       [ 6.75487307e-01,  1.01442734e+00],\n",
       "       [ 7.58799981e-01,  1.43203085e+00],\n",
       "       [-5.09955572e-01,  5.29629621e-01],\n",
       "       [ 1.56148480e-01, -3.51261259e-01],\n",
       "       [-1.05655482e+00, -8.72429099e-01],\n",
       "       [-7.24408263e-01, -5.65657363e-01],\n",
       "       [-1.23950839e+00, -8.03745528e-01],\n",
       "       [-1.94539230e+00,  3.91029972e-01],\n",
       "       [-9.47348254e-01,  2.10107145e+00],\n",
       "       [ 1.64348698e+00, -2.25674090e-01],\n",
       "       [-2.87809990e-01, -2.00469262e-01],\n",
       "       [ 9.42513673e-01, -7.16128153e-01],\n",
       "       [-2.60059120e+00,  2.23675999e-02],\n",
       "       [-1.39753350e+00,  1.06633638e+00],\n",
       "       [-3.10004512e-02,  4.71165058e-01],\n",
       "       [-6.26243259e-01,  2.96894790e-01],\n",
       "       [ 4.42575805e-01, -7.53291100e-01],\n",
       "       [ 1.64393300e+00, -2.27698353e+00],\n",
       "       [ 4.68884604e-01,  7.44598839e-01],\n",
       "       [ 1.04436289e+00,  9.63063655e-02],\n",
       "       [ 1.95168756e-01, -4.41959030e-01],\n",
       "       [-1.79589798e+00, -1.72454450e+00],\n",
       "       [-4.06100022e-01, -2.63317095e-01],\n",
       "       [-3.89393302e-01, -1.51244642e+00],\n",
       "       [-2.27594044e-01,  9.68196803e-01],\n",
       "       [-2.46356446e+00,  4.41648961e-01],\n",
       "       [ 1.61323659e+00,  9.37807133e-01],\n",
       "       [ 6.24019306e-01, -2.44942611e-01],\n",
       "       [-1.16009131e+00,  9.02272621e-01],\n",
       "       [ 2.21238235e+00, -4.90549691e-02],\n",
       "       [-6.55945442e-01, -5.78240259e-02],\n",
       "       [ 1.03735070e+00, -3.01364488e+00],\n",
       "       [-2.80828880e+00,  7.18980455e-01],\n",
       "       [-5.69270947e-01, -1.07671285e+00],\n",
       "       [-1.14977870e+00,  1.33225982e+00],\n",
       "       [ 7.63150468e-01, -1.75530782e-01],\n",
       "       [ 3.72794538e-01,  2.22314792e+00],\n",
       "       [-1.87689721e+00,  2.14585293e+00],\n",
       "       [ 2.96584646e+00, -8.13171329e-02],\n",
       "       [-6.90896316e-01, -5.29129830e-01],\n",
       "       [ 4.24936070e-02, -1.82238661e+00],\n",
       "       [ 5.09443362e-01,  3.07005341e-01],\n",
       "       [-1.00410445e+00,  1.22871792e+00],\n",
       "       [-5.27621395e-01,  6.82394128e-01],\n",
       "       [ 4.38950980e-01, -3.04985203e+00],\n",
       "       [ 4.14068084e-01, -1.20934087e+00],\n",
       "       [-7.26061952e-01,  1.93400849e-01],\n",
       "       [ 8.95971805e-01,  6.48181481e-02],\n",
       "       [-4.63885964e-02, -3.15575912e-01],\n",
       "       [ 1.26756472e+00,  1.18758045e+00],\n",
       "       [ 7.04144679e-01, -1.77865165e+00],\n",
       "       [-6.97754303e-01, -3.99015283e-01],\n",
       "       [-5.13530101e-01, -1.55859672e+00],\n",
       "       [-8.13519296e-01,  1.69731605e+00],\n",
       "       [ 1.20962556e+00,  7.20790104e-01],\n",
       "       [ 1.04509726e+00, -1.66492929e-01],\n",
       "       [-3.82703364e-01,  1.71983866e-01],\n",
       "       [ 6.34249898e-01, -2.29128631e-01],\n",
       "       [ 5.43115955e-01, -1.27714333e-01],\n",
       "       [ 5.48559302e-01,  1.15276937e+00],\n",
       "       [ 1.15500228e-02,  1.96445754e+00],\n",
       "       [-1.47071716e-01,  1.18551819e+00],\n",
       "       [-2.67587368e-02, -8.11834000e-01],\n",
       "       [ 3.12707638e-01,  1.91693566e+00],\n",
       "       [ 2.37955954e+00,  1.47018074e+00],\n",
       "       [ 3.90233462e-01,  6.78575210e-01],\n",
       "       [ 7.60692626e-01,  7.64224058e-01],\n",
       "       [ 1.17536034e+00, -4.98724384e-01],\n",
       "       [-7.91564827e-01, -8.94292287e-01],\n",
       "       [-1.27180068e+00,  8.59317912e-01],\n",
       "       [-9.98028201e-01,  5.71399354e-02],\n",
       "       [-4.39393932e-01,  4.07061477e-01],\n",
       "       [ 9.84786300e-01,  1.51246047e+00],\n",
       "       [-1.93147964e+00,  4.96027908e-01],\n",
       "       [-1.27309079e+00, -3.43521476e-01],\n",
       "       [-1.44749815e+00, -5.07743065e-01],\n",
       "       [-1.26221552e+00, -4.81602049e-01],\n",
       "       [-1.43717954e+00,  1.82394375e+00],\n",
       "       [-3.03237588e-01, -7.80700762e-01],\n",
       "       [-3.41974789e-01,  1.07140183e-01],\n",
       "       [ 7.39524233e-01,  4.48208020e-01],\n",
       "       [ 8.50578275e-01, -1.30226870e+00],\n",
       "       [-1.15340826e+00, -1.56201973e+00],\n",
       "       [ 1.81294843e+00,  1.80650531e-01],\n",
       "       [ 8.48546544e-01,  1.13238271e+00],\n",
       "       [ 5.12228684e-01, -1.68986805e+00],\n",
       "       [ 4.07907501e-01,  1.56267986e-01],\n",
       "       [-2.94803708e-01,  8.82702035e-01],\n",
       "       [ 1.39603302e-01,  4.42188300e-01],\n",
       "       [-1.08406181e+00, -1.61901851e+00],\n",
       "       [-8.01949125e-01,  2.16213141e-01],\n",
       "       [-2.12990779e+00,  2.07656456e-01],\n",
       "       [ 1.02245562e+00,  6.40447051e-01],\n",
       "       [-1.05153950e+00, -3.80579953e-01],\n",
       "       [-1.42214260e+00,  2.93755956e-01],\n",
       "       [-1.08297777e-01, -7.29826115e-01],\n",
       "       [-1.13766713e+00,  7.49753970e-01],\n",
       "       [-1.17782788e+00,  1.15989690e+00],\n",
       "       [-7.07980243e-01, -2.44574347e+00],\n",
       "       [-1.13292881e+00, -3.84937701e-01],\n",
       "       [-2.21804729e+00, -5.93400097e-01],\n",
       "       [-2.09718843e-01, -4.34334465e-01],\n",
       "       [ 1.83340845e-01,  6.98534581e-01],\n",
       "       [ 1.03671493e+00, -2.94354221e-01],\n",
       "       [ 1.23929951e+00, -1.18792466e+00],\n",
       "       [-2.23186525e-01, -1.20871057e-01],\n",
       "       [ 2.14576667e-01, -1.95971914e+00],\n",
       "       [ 9.55859836e-01,  3.04559096e-01],\n",
       "       [ 7.31689446e-02,  3.32719088e-01],\n",
       "       [-2.66221813e-01,  1.67008729e+00],\n",
       "       [ 3.08485876e-01, -1.09243597e+00],\n",
       "       [-1.50551857e+00,  5.40857168e+00],\n",
       "       [ 2.78392730e+00,  1.18390181e+00],\n",
       "       [-4.12777631e+00, -4.12806576e+00],\n",
       "       [-5.30299665e+00,  4.39411375e+00],\n",
       "       [ 1.21338014e+00,  2.49687093e+00],\n",
       "       [-5.75298607e+00,  5.63891823e+00],\n",
       "       [ 3.98931169e+00, -3.45193067e+00],\n",
       "       [-3.81810039e+00, -3.79914588e+00],\n",
       "       [-2.34909308e+00,  2.97077180e-01],\n",
       "       [-8.16659776e-01, -2.50525032e+00],\n",
       "       [ 1.34223474e+00, -4.32607367e+00],\n",
       "       [-2.49426422e+00, -1.60365788e+00],\n",
       "       [-5.27160189e-01,  3.42211154e+00],\n",
       "       [-3.60391461e+00,  1.70813261e-01],\n",
       "       [ 1.10897483e+00, -5.44259505e+00]])"
      ]
     },
     "execution_count": 8,
     "metadata": {},
     "output_type": "execute_result"
    }
   ],
   "source": [
    "X =  df.values\n",
    "X"
   ]
  },
  {
   "cell_type": "code",
   "execution_count": 9,
   "id": "f5474dfd-344a-499d-aef4-7c00f60f6d08",
   "metadata": {},
   "outputs": [
    {
     "name": "stdout",
     "output_type": "stream",
     "text": [
      "[ 1  1  1  1  1  1  1  1  1  1  1  1  1  1 -1  1  1  1  1  1  1  1  1  1\n",
      "  1  1  1  1  1  1  1  1  1  1  1  1  1  1  1  1  1  1  1  1  1  1  1  1\n",
      "  1  1  1  1  1  1  1  1  1  1  1  1  1  1  1  1  1  1  1  1  1  1  1  1\n",
      "  1  1  1  1  1  1  1  1  1  1  1  1  1  1 -1  1  1  1  1  1  1  1  1 -1\n",
      "  1  1  1  1  1  1  1  1  1  1  1  1  1  1  1  1  1  1  1  1  1  1  1  1\n",
      "  1  1  1  1  1  1  1  1  1  1  1  1  1  1 -1  1  1  1  1  1  1  1  1  1\n",
      "  1  1  1  1  1  1 -1  1  1  1  1  1  1  1  1  1  1  1  1  1  1  1  1  1\n",
      "  1  1  1  1  1  1  1  1  1  1  1  1  1  1  1  1  1  1  1  1  1  1  1 -1\n",
      "  1  1  1  1  1  1  1  1  1  1  1  1  1 -1  1  1  1  1  1 -1  1  1  1  1\n",
      "  1  1 -1  1  1  1  1  1  1  1  1  1  1  1  1  1  1  1  1  1  1  1  1  1\n",
      "  1  1  1  1  1  1  1  1  1  1  1  1  1  1  1  1  1  1  1  1  1  1  1  1\n",
      "  1  1  1  1  1  1  1  1  1  1  1  1  1  1  1  1  1  1  1  1  1 -1  1 -1\n",
      " -1  1 -1 -1 -1  1  1 -1 -1 -1 -1 -1]\n"
     ]
    }
   ],
   "source": [
    "# LOF\n",
    "from sklearn.neighbors import LocalOutlierFactor\n",
    "\n",
    "clf = LocalOutlierFactor(n_neighbors=10)\n",
    "labels = clf.fit_predict(X)\n",
    "\n",
    "# -1が異常値\n",
    "print(labels)"
   ]
  },
  {
   "cell_type": "code",
   "execution_count": 10,
   "id": "025e7780-74a6-4b59-ac7c-a6f9c982b848",
   "metadata": {},
   "outputs": [
    {
     "name": "stdout",
     "output_type": "stream",
     "text": [
      "[-0.98210672 -1.03293809 -0.97179438 -1.02142325 -1.05166288 -0.97778752\n",
      " -1.00818916 -1.01479901 -1.14842107 -0.97352029 -1.01055383 -1.03047971\n",
      " -1.00876559 -1.02479453 -1.65987952 -1.00109097 -1.25899152 -1.13336413\n",
      " -1.05684583 -1.01030703 -1.13472377 -1.08196892 -0.97353079 -1.11562531\n",
      " -1.03110365 -0.9780978  -0.99532912 -1.01981534 -1.01884768 -1.0121693\n",
      " -1.01485582 -0.97783057 -1.2334999  -1.13323063 -0.97983473 -1.19853655\n",
      " -1.05797855 -0.98379387 -1.08820033 -1.04959457 -0.97967738 -1.26218333\n",
      " -0.97900566 -1.07745278 -1.04033544 -1.07963527 -0.99745736 -1.05702101\n",
      " -1.04039786 -1.03207094 -1.29511513 -1.15246045 -0.99642061 -1.01552962\n",
      " -1.005015   -1.02492751 -1.37072287 -1.18984002 -0.98777646 -1.08633424\n",
      " -1.02731462 -1.25258347 -1.01376452 -0.97595021 -0.98233019 -1.09508413\n",
      " -1.02780296 -1.00224472 -1.11676088 -1.04732529 -1.10931697 -1.05805988\n",
      " -1.18318046 -1.32741039 -1.04142051 -1.26647272 -0.98030708 -0.9708215\n",
      " -1.0016987  -1.02396519 -1.18152455 -0.9938543  -0.97580634 -0.97624773\n",
      " -1.21233296 -0.94664257 -1.64403043 -1.0136709  -1.0222609  -0.96948835\n",
      " -1.08224694 -1.0268788  -1.03566926 -1.00814718 -1.07637114 -2.13664938\n",
      " -1.05864304 -1.04397347 -1.04306358 -1.0871059  -1.04471401 -1.00076035\n",
      " -1.01964727 -1.28441881 -0.95292731 -0.99339144 -1.49565987 -1.0240198\n",
      " -1.06400259 -1.08630412 -0.95184252 -1.19921701 -1.14630079 -1.00753141\n",
      " -0.9809568  -1.00847872 -1.09339391 -1.03856004 -0.95218293 -1.01424648\n",
      " -1.3425787  -1.40579195 -1.0530464  -1.02986739 -1.07483054 -1.04680882\n",
      " -1.17164933 -1.02689631 -1.2482632  -0.98892712 -0.97983067 -1.10759395\n",
      " -0.997851   -0.98571271 -1.53084995 -1.00616176 -0.99922911 -1.01214404\n",
      " -1.09127513 -1.06767946 -0.95204666 -1.04535292 -1.07958083 -1.22369927\n",
      " -1.00090485 -0.98260248 -0.9679792  -1.05844554 -1.18945868 -1.03144226\n",
      " -1.64219929 -1.43748853 -1.00781369 -1.00626217 -1.02751065 -0.96700154\n",
      " -1.0788748  -1.02683348 -1.09586046 -0.98109267 -0.98194996 -1.04646022\n",
      " -0.99404763 -1.04682002 -1.06687064 -1.04194477 -1.10940178 -1.25656004\n",
      " -1.13403726 -0.99839702 -1.03621657 -0.9635761  -1.22894405 -1.06643748\n",
      " -1.00806557 -1.02736762 -1.0986579  -1.09355029 -1.11143002 -0.97366979\n",
      " -1.06930247 -0.97890711 -1.0824902  -1.34923105 -1.00369364 -1.12890817\n",
      " -1.07835258 -1.00245921 -0.98204686 -0.99709345 -0.9821652  -1.50517081\n",
      " -1.09982316 -0.96260082 -1.14171314 -1.35451063 -0.97554248 -1.01646771\n",
      " -1.21408854 -1.07113811 -1.04842339 -1.02055148 -0.9828687  -1.38359026\n",
      " -1.01892445 -1.72498081 -1.21368741 -1.02040948 -0.99503455 -0.98641847\n",
      " -1.21721428 -1.7510778  -1.41732463 -0.96689834 -1.13264608 -1.09199941\n",
      " -1.00650839 -1.10324778 -1.69532251 -0.97169818 -0.9864442  -0.948994\n",
      " -1.04770075 -1.03235725 -1.11968573 -0.99015255 -0.98586085 -1.00214834\n",
      " -1.17042131 -0.98683096 -0.98777646 -1.03235044 -0.99914546 -1.00449156\n",
      " -1.03789429 -1.05801387 -1.01924645 -1.1622963  -1.11751916 -1.09368812\n",
      " -1.06802297 -1.10001654 -1.07386181 -0.96836862 -1.07649606 -1.04029118\n",
      " -1.08806306 -1.01598932 -0.99835628 -1.06694062 -1.00682523 -1.27093822\n",
      " -1.03797333 -0.98949575 -1.02224818 -1.06076983 -1.087009   -1.22799319\n",
      " -1.03599869 -1.07078646 -1.02495059 -1.25890992 -0.98312071 -1.03420817\n",
      " -1.01718294 -1.00012487 -1.0729227  -0.99509269 -1.11107695 -1.03758547\n",
      " -0.99275263 -0.99814318 -1.31854257 -0.97136017 -1.32282301 -1.01971859\n",
      " -1.05899273 -1.01114502 -1.14118038 -0.99282086 -1.20975555 -0.99907742\n",
      " -1.00066038 -0.99230832 -1.0164721  -3.79177864 -1.31929893 -4.19137238\n",
      " -4.13544488 -1.43826993 -4.90304738 -2.45645737 -3.7669345  -1.00995113\n",
      " -1.37275498 -2.25931183 -1.71614819 -1.91273663 -1.71426745 -2.50308682]\n"
     ]
    }
   ],
   "source": [
    "# LOFの値（仕様上負の値に変換されている）\n",
    "print(clf.negative_outlier_factor_)"
   ]
  },
  {
   "cell_type": "code",
   "execution_count": 11,
   "id": "b6cad2a8-4e83-48f4-a517-f9e8a2b91cdb",
   "metadata": {},
   "outputs": [
    {
     "data": {
      "text/plain": [
       "<matplotlib.collections.PathCollection at 0x7f90dc83b950>"
      ]
     },
     "execution_count": 11,
     "metadata": {},
     "output_type": "execute_result"
    },
    {
     "data": {
      "image/png": "[encoded data removed]",
      "text/plain": [
       "<Figure size 640x480 with 1 Axes>"
      ]
     },
     "metadata": {},
     "output_type": "display_data"
    }
   ],
   "source": [
    "# 描画\n",
    "df[\"label_pred\"] = labels\n",
    "\n",
    "# 正常\n",
    "tmp_df = df.query('label_pred == 1')\n",
    "plt.scatter(tmp_df[\"x\"], tmp_df[\"y\"], color = 'blue')\n",
    "\n",
    "# 異常\n",
    "tmp_df = df.query('label_pred == -1')\n",
    "plt.scatter(tmp_df[\"x\"], tmp_df[\"y\"], color = 'red')"
   ]
  },
  {
   "cell_type": "markdown",
   "id": "36033364-3de1-407f-afc5-715976a22c21",
   "metadata": {},
   "source": [
    "# sample2.csv"
   ]
  },
  {
   "cell_type": "code",
   "execution_count": 12,
   "id": "b4d37244-71f7-4f2a-a061-61015ffdcc21",
   "metadata": {},
   "outputs": [
    {
     "data": {
      "text/plain": [
       "<matplotlib.collections.PathCollection at 0x7f90dc8a20f0>"
      ]
     },
     "execution_count": 12,
     "metadata": {},
     "output_type": "execute_result"
    },
    {
     "data": {
      "image/png": "[encoded data removed]",
      "text/plain": [
       "<Figure size 640x480 with 1 Axes>"
      ]
     },
     "metadata": {},
     "output_type": "display_data"
    }
   ],
   "source": [
    "df = pd.read_csv(\"sample2.csv\")\n",
    "plt.scatter(df[\"x\"], df[\"y\"], c=\"blue\")"
   ]
  },
  {
   "cell_type": "code",
   "execution_count": 13,
   "id": "e2ed0240-bb96-42a2-9856-8adf89e9b65b",
   "metadata": {},
   "outputs": [
    {
     "name": "stdout",
     "output_type": "stream",
     "text": [
      "[ 1  1  1  1  1  1  1  1  1  1  1  1  1  1 -1  1  1  1  1  1  1  1  1  1\n",
      "  1  1  1  1  1  1  1  1  1  1  1  1  1  1  1  1  1  1  1  1  1  1  1  1\n",
      "  1  1  1  1  1  1  1  1  1  1  1  1  1  1  1  1  1  1  1  1  1  1  1  1\n",
      "  1  1  1  1  1  1  1  1  1  1  1  1  1  1 -1  1  1  1  1  1  1  1  1 -1\n",
      "  1  1  1  1  1  1  1  1  1  1 -1  1  1  1  1  1  1  1  1  1  1  1  1  1\n",
      "  1  1  1  1  1  1  1  1  1  1  1  1  1  1  1  1  1  1  1  1  1  1  1  1\n",
      "  1  1  1  1  1  1 -1  1  1  1  1  1  1  1  1  1  1  1  1  1  1  1  1 -1\n",
      "  1  1  1  1  1  1  1  1  1  1  1  1  1  1  1  1  1  1  1  1  1  1  1  1\n",
      "  1  1  1  1  1  1  1  1  1  1  1 -1  1 -1 -1  1  1  1  1 -1 -1  1  1  1\n",
      "  1  1 -1  1  1  1  1  1  1  1  1  1  1  1  1  1  1  1  1  1  1  1  1  1\n",
      "  1  1  1  1  1  1  1  1  1  1  1  1  1  1  1  1  1  1  1  1  1  1  1  1\n",
      "  1  1  1  1  1  1  1  1  1  1  1  1  1  1  1  1  1  1  1  1  1 -1  1 -1\n",
      " -1  1 -1 -1 -1 -1 -1 -1  1 -1 -1 -1]\n"
     ]
    }
   ],
   "source": [
    "X =  df.values\n",
    "\n",
    "clf = LocalOutlierFactor(n_neighbors=10)\n",
    "labels = clf.fit_predict(X)\n",
    "\n",
    "# -1が異常値\n",
    "print(labels)"
   ]
  },
  {
   "cell_type": "code",
   "execution_count": 14,
   "id": "56b77b2e-40d9-49a6-a168-432e150d3056",
   "metadata": {},
   "outputs": [
    {
     "data": {
      "text/plain": [
       "<matplotlib.collections.PathCollection at 0x7f90dc90b5c0>"
      ]
     },
     "execution_count": 14,
     "metadata": {},
     "output_type": "execute_result"
    },
    {
     "data": {
      "image/png": "[encoded data removed]",
      "text/plain": [
       "<Figure size 640x480 with 1 Axes>"
      ]
     },
     "metadata": {},
     "output_type": "display_data"
    }
   ],
   "source": [
    "# 描画\n",
    "df[\"label_pred\"] = labels\n",
    "\n",
    "# 正常\n",
    "tmp_df = df.query('label_pred == 1')\n",
    "plt.scatter(tmp_df[\"x\"], tmp_df[\"y\"], color = 'blue')\n",
    "\n",
    "# 異常\n",
    "tmp_df = df.query('label_pred == -1')\n",
    "plt.scatter(tmp_df[\"x\"], tmp_df[\"y\"], color = 'red')"
   ]
  },
  {
   "cell_type": "code",
   "execution_count": null,
   "id": "36fdb58d-8616-4a8c-a4c6-f3c9e2e34aa7",
   "metadata": {},
   "outputs": [],
   "source": []
  }
 ],
 "metadata": {
  "kernelspec": {
   "display_name": "Python 3 (ipykernel)",
   "language": "python",
   "name": "python3"
  },
  "language_info": {
   "codemirror_mode": {
    "name": "ipython",
    "version": 3
   },
   "file_extension": ".py",
   "mimetype": "text/x-python",
   "name": "python",
   "nbconvert_exporter": "python",
   "pygments_lexer": "ipython3",
   "version": "3.12.9"
  }
 },
 "nbformat": 4,
 "nbformat_minor": 5
}
